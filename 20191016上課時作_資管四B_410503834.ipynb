{
 "cells": [
  {
   "cell_type": "markdown",
   "metadata": {},
   "source": [
    "## 實作練習1"
   ]
  },
  {
   "cell_type": "code",
   "execution_count": 2,
   "metadata": {},
   "outputs": [
    {
     "name": "stdout",
     "output_type": "stream",
     "text": [
      "請輸入成績:95\n",
      "優等\n"
     ]
    }
   ],
   "source": [
    "score = int(input(\"請輸入成績:\"))\n",
    "\n",
    "if score > 89:\n",
    "    print(\"優等\")\n",
    "elif score > 79:\n",
    "    print(\"甲等\")\n",
    "elif score > 69:\n",
    "    print(\"乙等\")\n",
    "elif score > 59:\n",
    "    print(\"丙等\")\n",
    "else:\n",
    "    print(\"丁等\")"
   ]
  },
  {
   "cell_type": "markdown",
   "metadata": {},
   "source": [
    "## 實作練習2"
   ]
  },
  {
   "cell_type": "code",
   "execution_count": 4,
   "metadata": {},
   "outputs": [
    {
     "name": "stdout",
     "output_type": "stream",
     "text": [
      "請輸入正整數:10\n",
      "1 到 10 的整數和為 55\n"
     ]
    }
   ],
   "source": [
    "n = int(input(\"請輸入正整數:\"))\n",
    "sum = 0\n",
    "\n",
    "for i in range(1,n+1):\n",
    "    sum= sum + i\n",
    "    \n",
    "print(\"1 到 %d 的整數和為 %d\" % (n,sum))"
   ]
  },
  {
   "cell_type": "markdown",
   "metadata": {},
   "source": [
    "## 實作練習5"
   ]
  },
  {
   "cell_type": "code",
   "execution_count": 5,
   "metadata": {},
   "outputs": [
    {
     "name": "stdout",
     "output_type": "stream",
     "text": [
      "請輸入正整數:12\n",
      "1 2 3 4 6 7 8 9 11 12 "
     ]
    }
   ],
   "source": [
    "n = int(input(\"請輸入正整數:\"))\n",
    "\n",
    "for i in range(1,n+1):\n",
    "    if(i%5 == 0):\n",
    "        continue\n",
    "    print(i,end = ' ')"
   ]
  },
  {
   "cell_type": "markdown",
   "metadata": {},
   "source": [
    "## 實作練習6"
   ]
  },
  {
   "cell_type": "code",
   "execution_count": 6,
   "metadata": {},
   "outputs": [
    {
     "name": "stdout",
     "output_type": "stream",
     "text": [
      "請輸入正整數 n 的值:5\n",
      "5!=120\n"
     ]
    }
   ],
   "source": [
    "n = int(input(\"請輸入正整數 n 的值:\"))\n",
    "i = 1\n",
    "total = 1\n",
    "\n",
    "while ( i <= n):\n",
    "    total = total * i\n",
    "    i = i + 1\n",
    "print(\"%d!=%d\" % (n,total))"
   ]
  },
  {
   "cell_type": "code",
   "execution_count": null,
   "metadata": {},
   "outputs": [],
   "source": []
  }
 ],
 "metadata": {
  "kernelspec": {
   "display_name": "Python 3",
   "language": "python",
   "name": "python3"
  },
  "language_info": {
   "codemirror_mode": {
    "name": "ipython",
    "version": 3
   },
   "file_extension": ".py",
   "mimetype": "text/x-python",
   "name": "python",
   "nbconvert_exporter": "python",
   "pygments_lexer": "ipython3",
   "version": "3.6.7"
  }
 },
 "nbformat": 4,
 "nbformat_minor": 2
}
